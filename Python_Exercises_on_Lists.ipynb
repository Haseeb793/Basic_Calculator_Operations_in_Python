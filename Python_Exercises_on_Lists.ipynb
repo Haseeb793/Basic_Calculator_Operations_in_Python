{
 "cells": [
  {
   "cell_type": "markdown",
   "metadata": {},
   "source": [
    "Exercise 3-1: Names\n",
    "● Task: Store the names of a few of your friends in a list called names. Print each person’s name by accessing each element in the list, one at a time. \n"
   ]
  },
  {
   "cell_type": "code",
   "execution_count": 8,
   "metadata": {},
   "outputs": [
    {
     "name": "stdout",
     "output_type": "stream",
     "text": [
      "Haseeb\n",
      "Umer\n",
      "Adil\n",
      "Manan\n"
     ]
    }
   ],
   "source": [
    "friends= ['Haseeb', 'Umer', 'Adil', 'Manan']\n",
    "for name in friends:\n",
    "    print(name)"
   ]
  },
  {
   "cell_type": "markdown",
   "metadata": {},
   "source": [
    "Exercise 3-2: Greetings \n",
    "● Task: Start with the list you used in Exercise 3-1. Instead of just printing each person’s name, print a message to them. The text of each message should be the same, but each message should be personalized with the person’s name. \n"
   ]
  },
  {
   "cell_type": "code",
   "execution_count": 9,
   "metadata": {},
   "outputs": [
    {
     "name": "stdout",
     "output_type": "stream",
     "text": [
      "Greeting to Mr. Haseeb\n",
      "Greeting to Mr. Umer\n",
      "Greeting to Mr. Adil\n",
      "Greeting to Mr. Manan\n"
     ]
    }
   ],
   "source": [
    "for name in friends:\n",
    "    print(f\"Greeting to Mr. {name}\")"
   ]
  },
  {
   "cell_type": "markdown",
   "metadata": {},
   "source": [
    "Exercise 3-3: Your Own List \n",
    "● Task: Think of your favorite mode of transportation, such as a motorcycle or a car, and make a list that stores several examples. Use your list to print a series of statements about these items, such as “I would like to own a Honda motorcycle.” \n"
   ]
  },
  {
   "cell_type": "code",
   "execution_count": 10,
   "metadata": {},
   "outputs": [
    {
     "name": "stdout",
     "output_type": "stream",
     "text": [
      " i would like to own Honda because most people use it. However, i would like to try other cars as well because their efficeicny which are Honda, New Swift and Tesla \n"
     ]
    }
   ],
   "source": [
    "favorite_cars = [\"Honda\", \"New Swift\", \"Tesla\", \"Haval\"]\n",
    "print(f\" i would like to own {favorite_cars[0]} because most people use it. However, i would like to try other cars as well because their efficeicny which are {favorite_cars[0]}, {favorite_cars[1]} and {favorite_cars[2]} \")"
   ]
  },
  {
   "cell_type": "markdown",
   "metadata": {},
   "source": [
    "Exercise 3-4: Guest List \n",
    "● Task: If you could invite anyone, living or deceased, to dinner, who would you invite? Make a list that includes at least three people you’d like to invite to dinner. Then use your list to print a message to each person, inviting them to dinner. \n"
   ]
  },
  {
   "cell_type": "code",
   "execution_count": 11,
   "metadata": {},
   "outputs": [
    {
     "name": "stdout",
     "output_type": "stream",
     "text": [
      "Dear Waseem, You are cordially invited to the dinner at MM alam\n",
      "Dear akram, You are cordially invited to the dinner at MM alam\n",
      "Dear Mehmood, You are cordially invited to the dinner at MM alam\n"
     ]
    }
   ],
   "source": [
    "guest_name= ['Waseem','akram','Mehmood']\n",
    "for name in guest_name:\n",
    "    print(f\"Dear {name}, You are cordially invited to the dinner at MM alam\")"
   ]
  },
  {
   "cell_type": "markdown",
   "metadata": {},
   "source": [
    "Exercise 3-5: Changing Guest List \n",
    "● Task: Start with your program from Exercise 3-4. Add a print() call at the end of your program, stating the name of the guest who can’t make it. Modify your list, replacing the\n",
    "name of the guest who can’t make it with the name of the new person you are inviting. Print a second set of invitation messages, one for each person who is still in your list. \n"
   ]
  },
  {
   "cell_type": "code",
   "execution_count": 19,
   "metadata": {},
   "outputs": [
    {
     "name": "stdout",
     "output_type": "stream",
     "text": [
      "Rahul cannot make it the dinner\n",
      " Opps\n",
      "\n",
      "###Revised guest list below####\n",
      "\n",
      "\tRahul you are cordially invited to the dinner\n",
      "\n",
      "\tAkram you are cordially invited to the dinner\n",
      "\n",
      "\tMehmood you are cordially invited to the dinner\n",
      "\n"
     ]
    }
   ],
   "source": [
    "print(f\"{guest_name[0]} cannot make it the dinner\\n Opps\")\n",
    "\n",
    "print(\"\\n###Revised guest list below####\\n\")\n",
    "guest_name[0]= \"Rahul\"\n",
    "for name in guest_name:\n",
    "    print(f\"\\t{name.title()} you are cordially invited to the dinner\\n\")\n"
   ]
  },
  {
   "cell_type": "markdown",
   "metadata": {},
   "source": [
    "Exercise 3-6: More Guests \n",
    "● Task: Start with your program from Exercise 3-4 or 3-5. Add a print() call to the end of your program, informing people that you found a bigger table. Use insert() to add one new guest to the beginning of your list. Use insert() to add one new guest to the middle of your list. Use append() to add one new guest to the end of your list. Print a new set of invitation messages, one for each person in your list. \n"
   ]
  },
  {
   "cell_type": "code",
   "execution_count": 34,
   "metadata": {},
   "outputs": [
    {
     "name": "stdout",
     "output_type": "stream",
     "text": [
      "we found a bigger table\n",
      "\n",
      "New guest list\n",
      "\t\n",
      " Dear Rehman you are invited to dinner party\n",
      "\t\n",
      " Dear Hamza you are invited to dinner party\n",
      "\t\n",
      " Dear Rehman you are invited to dinner party\n",
      "\t\n",
      " Dear Rahul you are invited to dinner party\n",
      "\t\n",
      " Dear Dravid you are invited to dinner party\n",
      "['Rehman', 'Hamza', 'Rehman', 'Rahul', 'Dravid']\n"
     ]
    }
   ],
   "source": [
    "print(f\"we found a bigger table\")\n",
    "guest_name.insert(0,'Rehman')\n",
    "guest_name.insert(len(guest_name)//2,'Hamza')\n",
    "guest_name.append('Dravid')\n",
    "\n",
    "print(\"\\nNew guest list\")\n",
    "\n",
    "for name in guest_name:\n",
    "    print(f\"\\t\\n Dear {name} you are invited to dinner party\")\n",
    "\n"
   ]
  },
  {
   "cell_type": "markdown",
   "metadata": {},
   "source": [
    "Exercise 3-7: Shrinking Guest List \n",
    "● Task: Start with your program from Exercise 3-6. Add a new line that prints a message saying that you can invite only two people for dinner. Use pop() to remove guests from your list one at a time until only two names remain in your list. Each time you pop a name from your list, print a message to that person letting them know you’re sorry you can’t invite them to dinner. Print a message to each of the two people still on your list, letting them know they’re still invited. Use del to remove the last two names from your list, so you have an empty list. Print your list to make sure you actually have an empty list at the end of your program. \n"
   ]
  },
  {
   "cell_type": "code",
   "execution_count": 46,
   "metadata": {},
   "outputs": [
    {
     "name": "stdout",
     "output_type": "stream",
     "text": [
      "sorry i have only two people to invite\n",
      " Dravid Sorry you cannot be invited to the dinner \n",
      " Rahul Sorry you cannot be invited to the dinner \n",
      " Rehman Sorry you cannot be invited to the dinner \n",
      "\n",
      " Dear Rehman you are still on the dinner invite list and invited\n",
      "\n",
      " Dear Hamza you are still on the dinner invite list and invited\n",
      "The guest list name: [] is empty\n"
     ]
    }
   ],
   "source": [
    "guest_name= ['Rehman', 'Hamza', 'Rehman', 'Rahul', 'Dravid']\n",
    "print(\"sorry i have only two people to invite\")\n",
    "\n",
    "guest_to_remove= len(guest_name)-2\n",
    "for _  in range(guest_to_remove):\n",
    "    print(f\" {guest_name.pop()} Sorry you cannot be invited to the dinner \")\n",
    "\n",
    "#to show remaing guests that you are still on the list\n",
    "for name in guest_name:\n",
    "    print(f\"\\n Dear {name} you are still on the dinner invite list and invited\")\n",
    "\n",
    "#del to remove last two names on the list \n",
    "\n",
    "del guest_name[:]\n",
    "\n",
    "print(f\"The guest list name: {guest_name} is empty\")\n"
   ]
  },
  {
   "cell_type": "markdown",
   "metadata": {},
   "source": [
    "Exercise 3-8: Seeing the World \n",
    "● Task: Think of at least five places in the world you’d like to visit. Store the locations in a list. Make sure the list is not in alphabetical order. Print your list in its original order. Don’t worry about printing the list neatly; just print it as a raw Python list. Use sorted() to print your list in alphabetical order without modifying the actual list. Show that your list is still in its original order by printing it. Use sorted() to print your list in \n",
    "reverse-alphabetical order without changing the order of the original list. Show that your list is still in its original order by printing it again. Use reverse() to change the order of your list. Print the list to show that its order has changed. Use reverse() to change the order of your list again. Print the list to show it’s back to its original order. Use sort() to change your list so it’s stored in alphabetical order. Print the list to show that its order has been changed. Use sort() to change your list so it’s stored in reverse-alphabetical order. Print the list to show that its order has changed. "
   ]
  },
  {
   "cell_type": "code",
   "execution_count": 65,
   "metadata": {},
   "outputs": [
    {
     "name": "stdout",
     "output_type": "stream",
     "text": [
      "Original list: ['newyork', 'dublin', 'bali', 'paris']\n",
      "Alphabetical order: ['bali', 'dublin', 'newyork', 'paris']\n",
      "Original list after sorted: ['newyork', 'dublin', 'bali', 'paris']\n",
      "Reverse Alphabetical order: ['paris', 'newyork', 'dublin', 'bali']\n",
      "original list after reverse sorted: ['newyork', 'dublin', 'bali', 'paris']\n",
      "List after reverse(): ['paris', 'bali', 'dublin', 'newyork']\n",
      "List after reverse() again (back to original order): ['newyork', 'dublin', 'bali', 'paris']\n",
      "Alphabetical order using sort(): ['bali', 'dublin', 'newyork', 'paris']\n",
      "reverse-alphabetical order using sort() ['paris', 'newyork', 'dublin', 'bali']\n"
     ]
    }
   ],
   "source": [
    "# Step 1: Create a list of places you'd like to visit\n",
    "places_to_visit = ['newyork', 'dublin', 'bali', 'paris']\n",
    "\n",
    "# Step 2: Print the list in its original order\n",
    "print(\"Original list:\", places_to_visit)\n",
    "\n",
    "# Step 3: Use sorted() to print the list in alphabetical order without modifying the original list\n",
    "print(\"Alphabetical order:\", sorted(places_to_visit))\n",
    "\n",
    "#step 4:  Show that your list is still in its original order by printing it again\n",
    "print(\"Original list after sorted:\", places_to_visit)\n",
    "\n",
    "#step 5: use sorted() to print your list in reverse-alphabetical order without changing the order of the original list.\n",
    "print(\"Reverse Alphabetical order:\", sorted(places_to_visit, reverse=True))\n",
    "\n",
    "#step 6: Print the list to show that its order has changed.\n",
    "print(\"original list after reverse sorted:\", places_to_visit)\n",
    "\n",
    "#step 7: Use reverse() to change the order of your list\n",
    "places_to_visit.reverse()\n",
    "print(\"List after reverse():\", places_to_visit)\n",
    "\n",
    "#step 8:  reverse() to change the order of your list again.\n",
    "places_to_visit.reverse()\n",
    "print(\"List after reverse() again (back to original order):\", places_to_visit)\n",
    "\n",
    "#Use sort() to change your list so it’s stored in alphabetical order\n",
    "places_to_visit.sort()\n",
    "print(\"Alphabetical order using sort():\", places_to_visit)\n",
    "\n",
    "#Use sort() to change your list so it’s stored in reverse-alphabetical order. \n",
    "places_to_visit.sort(reverse=True)\n",
    "print(\"reverse-alphabetical order using sort()\", places_to_visit)"
   ]
  },
  {
   "cell_type": "markdown",
   "metadata": {},
   "source": [
    "Exercise 3-9: Every Function \n",
    "● Task: Think of things you could store in a list. For example, you could make a list of mountains, rivers, countries, cities, languages, or anything else you’d like. Write a program that creates a list containing these items and then uses each function introduced in this chapter at least once. \n"
   ]
  },
  {
   "cell_type": "code",
   "execution_count": 66,
   "metadata": {},
   "outputs": [
    {
     "name": "stdout",
     "output_type": "stream",
     "text": [
      "Original list of countries: ['Japan', 'Canada', 'Brazil', 'Norway', 'Australia']\n",
      "After append('Iceland'): ['Japan', 'Canada', 'Brazil', 'Norway', 'Australia', 'Iceland']\n",
      "After insert(1, 'Germany'): ['Japan', 'Germany', 'Canada', 'Brazil', 'Norway', 'Australia', 'Iceland']\n",
      "After pop(), popped country: Iceland\n",
      "List after pop(): ['Japan', 'Germany', 'Canada', 'Brazil', 'Norway', 'Australia']\n",
      "After pop(1), popped country: Germany\n",
      "List after pop(1): ['Japan', 'Canada', 'Brazil', 'Norway', 'Australia']\n",
      "After remove('Brazil'): ['Japan', 'Canada', 'Norway', 'Australia']\n",
      "After sort(): ['Australia', 'Canada', 'Japan', 'Norway']\n",
      "Using sorted() in reverse: ['Norway', 'Japan', 'Canada', 'Australia']\n",
      "List after sorted(): ['Australia', 'Canada', 'Japan', 'Norway']\n",
      "After reverse(): ['Norway', 'Japan', 'Canada', 'Australia']\n",
      "Number of countries in the list: 4\n"
     ]
    }
   ],
   "source": [
    "# Step 1: Create a list of countries\n",
    "countries = ['Japan', 'Canada', 'Brazil', 'Norway', 'Australia']\n",
    "\n",
    "# Step 2: Print the original list\n",
    "print(\"Original list of countries:\", countries)\n",
    "\n",
    "# Step 3: Use append() to add a new country to the end of the list\n",
    "countries.append('Iceland')\n",
    "print(\"After append('Iceland'):\", countries)\n",
    "\n",
    "# Step 4: Use insert() to add a new country at the second position\n",
    "countries.insert(1, 'Germany')\n",
    "print(\"After insert(1, 'Germany'):\", countries)\n",
    "\n",
    "# Step 5: Use pop() to remove the last country and store it in a variable\n",
    "popped_country = countries.pop()\n",
    "print(\"After pop(), popped country:\", popped_country)\n",
    "print(\"List after pop():\", countries)\n",
    "\n",
    "# Step 6: Use pop(index) to remove a country from the second position\n",
    "popped_country = countries.pop(1)\n",
    "print(\"After pop(1), popped country:\", popped_country)\n",
    "print(\"List after pop(1):\", countries)\n",
    "\n",
    "# Step 7: Use remove() to remove a country by its name\n",
    "countries.remove('Brazil')\n",
    "print(\"After remove('Brazil'):\", countries)\n",
    "\n",
    "# Step 8: Use sort() to sort the list in alphabetical order\n",
    "countries.sort()\n",
    "print(\"After sort():\", countries)\n",
    "\n",
    "# Step 9: Use sorted() to temporarily sort the list in reverse alphabetical order\n",
    "print(\"Using sorted() in reverse:\", sorted(countries, reverse=True))\n",
    "\n",
    "# Step 10: Show that the original list order is unchanged after sorted()\n",
    "print(\"List after sorted():\", countries)\n",
    "\n",
    "# Step 11: Use reverse() to reverse the order of the list\n",
    "countries.reverse()\n",
    "print(\"After reverse():\", countries)\n",
    "\n",
    "# Step 12: Use len() to print the number of countries in the list\n",
    "print(\"Number of countries in the list:\", len(countries))\n"
   ]
  },
  {
   "cell_type": "code",
   "execution_count": 67,
   "metadata": {},
   "outputs": [
    {
     "ename": "IndexError",
     "evalue": "list index out of range",
     "output_type": "error",
     "traceback": [
      "\u001b[1;31m---------------------------------------------------------------------------\u001b[0m",
      "\u001b[1;31mIndexError\u001b[0m                                Traceback (most recent call last)",
      "Cell \u001b[1;32mIn[67], line 5\u001b[0m\n\u001b[0;32m      2\u001b[0m fruits \u001b[38;5;241m=\u001b[39m [\u001b[38;5;124m'\u001b[39m\u001b[38;5;124mapple\u001b[39m\u001b[38;5;124m'\u001b[39m, \u001b[38;5;124m'\u001b[39m\u001b[38;5;124mbanana\u001b[39m\u001b[38;5;124m'\u001b[39m, \u001b[38;5;124m'\u001b[39m\u001b[38;5;124mcherry\u001b[39m\u001b[38;5;124m'\u001b[39m]\n\u001b[0;32m      4\u001b[0m \u001b[38;5;66;03m# Step 2: Attempt to access an index that doesn't exist to produce an IndexError\u001b[39;00m\n\u001b[1;32m----> 5\u001b[0m \u001b[38;5;28mprint\u001b[39m(\u001b[43mfruits\u001b[49m\u001b[43m[\u001b[49m\u001b[38;5;241;43m5\u001b[39;49m\u001b[43m]\u001b[49m)  \n\u001b[0;32m      7\u001b[0m \u001b[38;5;66;03m# Corrected: Access a valid index\u001b[39;00m\n\u001b[0;32m      8\u001b[0m \u001b[38;5;28mprint\u001b[39m(fruits[\u001b[38;5;241m2\u001b[39m])  \u001b[38;5;66;03m# This will correctly print 'cherry'\u001b[39;00m\n",
      "\u001b[1;31mIndexError\u001b[0m: list index out of range"
     ]
    }
   ],
   "source": [
    "# Step 1: Create a list of fruits\n",
    "fruits = ['apple', 'banana', 'cherry']\n",
    "\n",
    "# Step 2: Attempt to access an index that doesn't exist to produce an IndexError\n",
    "print(fruits[5])  \n",
    "\n",
    "# Corrected: Access a valid index\n",
    "print(fruits[2])  # This will correctly print 'cherry'\n"
   ]
  }
 ],
 "metadata": {
  "kernelspec": {
   "display_name": "Python 3",
   "language": "python",
   "name": "python3"
  },
  "language_info": {
   "codemirror_mode": {
    "name": "ipython",
    "version": 3
   },
   "file_extension": ".py",
   "mimetype": "text/x-python",
   "name": "python",
   "nbconvert_exporter": "python",
   "pygments_lexer": "ipython3",
   "version": "3.12.4"
  }
 },
 "nbformat": 4,
 "nbformat_minor": 2
}
